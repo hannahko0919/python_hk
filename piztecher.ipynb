{
 "cells": [
  {
   "cell_type": "code",
   "execution_count": 6,
   "metadata": {},
   "outputs": [
    {
     "name": "stdout",
     "output_type": "stream",
     "text": [
      "콜라 (1500원)\n",
      "사이다 (1500원)\n",
      "생수 (1000원)\n",
      "주문 완료!\n",
      "주문 완료!\n",
      "{'콜라': 34, '사이다': 1}\n"
     ]
    }
   ],
   "source": [
    "dnkmanu={'콜라': 1500, '사이다': 1500,'생수': 1000}\n",
    "order={}\n",
    "\n",
    "for name, price in dnkmanu.items():\n",
    "        print(f'{name} ({price}원)')\n",
    "\n",
    "while True:\n",
    "    dnkname=input('메뉴이름 입력하세요(종료: exit): ')\n",
    "    if dnkname == 'exit':\n",
    "        break\n",
    "    elif dnkname in dnkmanu:\n",
    "        count=int(input('수량 입력하세요: '))\n",
    "        order[dnkname]=count    #'딕셔너리 데이터 삽입'\n",
    "        print('주문 완료!')\n",
    "\n",
    "\n",
    "print(order)"
   ]
  }
 ],
 "metadata": {
  "kernelspec": {
   "display_name": "Python 3",
   "language": "python",
   "name": "python3"
  },
  "language_info": {
   "codemirror_mode": {
    "name": "ipython",
    "version": 3
   },
   "file_extension": ".py",
   "mimetype": "text/x-python",
   "name": "python",
   "nbconvert_exporter": "python",
   "pygments_lexer": "ipython3",
   "version": "3.13.1"
  }
 },
 "nbformat": 4,
 "nbformat_minor": 2
}
