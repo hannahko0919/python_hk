{
  "nbformat": 4,
  "nbformat_minor": 0,
  "metadata": {
    "colab": {
      "provenance": [],
      "authorship_tag": "ABX9TyOznuAU+D1Pf41sNybMSlzI",
      "include_colab_link": true
    },
    "kernelspec": {
      "name": "python3",
      "display_name": "Python 3"
    },
    "language_info": {
      "name": "python"
    }
  },
  "cells": [
    {
      "cell_type": "markdown",
      "metadata": {
        "id": "view-in-github",
        "colab_type": "text"
      },
      "source": [
        "<a href=\"https://colab.research.google.com/github/hannahko0919/python_hk/blob/main/8%EC%9D%BC%EC%B0%A8_set_%EC%82%AC%EC%9A%A9%EC%9E%90_%EC%A0%95%EC%9D%98%ED%95%A8%EC%88%98.ipynb\" target=\"_parent\"><img src=\"https://colab.research.google.com/assets/colab-badge.svg\" alt=\"Open In Colab\"/></a>"
      ]
    },
    {
      "cell_type": "markdown",
      "source": [
        "## 컬렉션 함수 - set\n",
        "* 세트명={값1,값2..}"
      ],
      "metadata": {
        "id": "ivPk_EEqA9f8"
      }
    },
    {
      "cell_type": "code",
      "execution_count": null,
      "metadata": {
        "colab": {
          "base_uri": "https://localhost:8080/"
        },
        "id": "q0q9o24MAqYg",
        "outputId": "95f51b84-b524-47d4-e61a-8f93bbde4f09"
      },
      "outputs": [
        {
          "output_type": "stream",
          "name": "stdout",
          "text": [
            "{20}\n",
            "{20, 40, 10, 30}\n",
            "{10, 30}\n"
          ]
        }
      ],
      "source": [
        "A={10,20,30}\n",
        "B={20,40}\n",
        "\n",
        "print(A&B) #합집합\n",
        "print(A|B) #교집합\n",
        "print(A-B) #차집합\n",
        "\n"
      ]
    },
    {
      "cell_type": "markdown",
      "source": [
        "## 사용자 정의 함수\n",
        "\n",
        "\n",
        "```\n",
        "\bdef 함수명():\n",
        "  명령문\n",
        "  명령문\n",
        "\n",
        "함수()\n",
        "```\n",
        "\n"
      ],
      "metadata": {
        "id": "oY_XOE5MCu-i"
      }
    },
    {
      "cell_type": "code",
      "source": [
        "#함수 정의\n",
        "def infoper():\n",
        "  print('영등포구')\n",
        "  print('고한나')\n",
        "\n",
        "#함수 호출\n",
        "for i in range(10):\n",
        "  infoper()"
      ],
      "metadata": {
        "colab": {
          "base_uri": "https://localhost:8080/"
        },
        "id": "wl6p-VCxCuxY",
        "outputId": "ff8f65ad-f185-487f-a5fa-d9022b272773"
      },
      "execution_count": null,
      "outputs": [
        {
          "output_type": "stream",
          "name": "stdout",
          "text": [
            "영등포구\n",
            "고한나\n",
            "영등포구\n",
            "고한나\n",
            "영등포구\n",
            "고한나\n",
            "영등포구\n",
            "고한나\n",
            "영등포구\n",
            "고한나\n",
            "영등포구\n",
            "고한나\n",
            "영등포구\n",
            "고한나\n",
            "영등포구\n",
            "고한나\n",
            "영등포구\n",
            "고한나\n",
            "영등포구\n",
            "고한나\n"
          ]
        }
      ]
    },
    {
      "cell_type": "code",
      "source": [
        "#함수의 인수 사용\n",
        "def infoper(addr, name):\n",
        "  print(addr)\n",
        "  print(name)\n",
        "\n",
        "#함수 호출\n",
        "\n",
        "addr=input('주소입력>>')\n",
        "name=input('이름입력>>')\n",
        "infoper(addr, name)"
      ],
      "metadata": {
        "colab": {
          "base_uri": "https://localhost:8080/"
        },
        "id": "JEuCsnCbA8Oy",
        "outputId": "19b7c395-3b14-4f0a-c5a3-7beaf08037b8"
      },
      "execution_count": null,
      "outputs": [
        {
          "output_type": "stream",
          "name": "stdout",
          "text": [
            "주소입력>>333\n",
            "이름입력>>11\n",
            "333\n",
            "11\n"
          ]
        }
      ]
    },
    {
      "cell_type": "code",
      "source": [
        "#더하기,빼기 함수 작성\n",
        "\n",
        "def calc(a,b,c):\n",
        "  r1=a+b+c\n",
        "  r2=r1/3\n",
        "  # print('더하기: ', r1)\n",
        "  # print('빼기: ', r1)\n",
        "  return r1, r2\n",
        "\n",
        "x,y=calc(100,200,300)\n",
        "print(x,y)"
      ],
      "metadata": {
        "colab": {
          "base_uri": "https://localhost:8080/"
        },
        "id": "imaeLIVyA_2L",
        "outputId": "3bb9029c-9325-443c-bba0-081474c732fa"
      },
      "execution_count": null,
      "outputs": [
        {
          "output_type": "stream",
          "name": "stdout",
          "text": [
            "600 200.0\n"
          ]
        }
      ]
    },
    {
      "cell_type": "markdown",
      "source": [
        "## 사용자로부터 입력받아 구구단 출력하기\n",
        "*2~9까지만 입력가능, 이외의 수는 입력오류출력\n",
        "* for 문과 if 문"
      ],
      "metadata": {
        "id": "W36Y6xQQF0RX"
      }
    },
    {
      "cell_type": "code",
      "source": [
        "def muti(dan):\n",
        "  if 2<= dan <=9:\n",
        "    print(f'***{dan}단***')\n",
        "    for i in range(1,10):\n",
        "      print(f'{dan} * {i} = {dan*i}')\n",
        "  else:\n",
        "    print('입력오류')\n",
        "\n",
        "dan=int(input('단 입력>> '))\n",
        "\n",
        "muti(dan)"
      ],
      "metadata": {
        "colab": {
          "base_uri": "https://localhost:8080/"
        },
        "id": "wvPak3brGC0f",
        "outputId": "7d519675-305e-450b-91be-eb502c2853b5"
      },
      "execution_count": null,
      "outputs": [
        {
          "output_type": "stream",
          "name": "stdout",
          "text": [
            "단 입력>> 1\n",
            "입력오류\n"
          ]
        }
      ]
    },
    {
      "cell_type": "markdown",
      "source": [
        "## 사용자로부터 3개의 정수를 입력받아 가장 큰수를 출력\n",
        "*findMax(a,b,c)\n",
        "*return"
      ],
      "metadata": {
        "id": "Cf93aLxPIJDv"
      }
    },
    {
      "cell_type": "code",
      "source": [
        "def findMax(a,b,c):\n",
        "  if a >b:\n",
        "    big=a\n",
        "  else:\n",
        "    big=b\n",
        "  if big<c:\n",
        "    big=c\n",
        "  return big\n",
        "ina=int(input('첫번째 정수: '))\n",
        "inb=int(input('두번째 정수: '))\n",
        "inc=int(input('세번째 정수: '))\n",
        "rbig=findMax(ina,inb,inc)\n",
        "print(f'가장 큰 함수는 {rbig}')"
      ],
      "metadata": {
        "id": "296YQSqCH7yh"
      },
      "execution_count": null,
      "outputs": []
    },
    {
      "cell_type": "markdown",
      "source": [
        "## 사용자로부터 반지름 입력받아 원의 둘레와 넚이 구하는 프로그램\n",
        "*return"
      ],
      "metadata": {
        "id": "B9YIi9CSKA7C"
      }
    },
    {
      "cell_type": "code",
      "source": [
        "def ar(a):\n",
        "  pi=3.14\n",
        "  area=(a**2)*pi\n",
        "  return area\n",
        "def lent(a):\n",
        "  pi=3.14\n",
        "  lenth=2*a*pi\n",
        "  return lenth\n",
        "\n",
        "r=int(input('반지름 입력>> '))\n",
        "r1=ar(r)\n",
        "r2=lent(r)\n",
        "print(f'원의 둘레: {r2}, 원의 넓이: {r1}')\n"
      ],
      "metadata": {
        "colab": {
          "base_uri": "https://localhost:8080/"
        },
        "id": "1Dkpk8JrKJVq",
        "outputId": "449ad6f6-fec5-45d9-982b-b5614f097458"
      },
      "execution_count": null,
      "outputs": [
        {
          "output_type": "stream",
          "name": "stdout",
          "text": [
            "반지름 입력>> 12\n",
            "원의 둘레: 75.36, 원의 넓이: 452.16\n"
          ]
        }
      ]
    },
    {
      "cell_type": "markdown",
      "source": [
        "##영어사전"
      ],
      "metadata": {
        "id": "atPMDURUDwwG"
      }
    },
    {
      "cell_type": "code",
      "source": [
        "worddict={'apple': '사과', 'orange':'오렌지', 'car':'차', 'chocolate':'초콜릿', 'cloth':'옷','banana': '바나나','doll': '인형','dog':'강아지','cat':'고양이', 'standfast':'확고부동한'}\n",
        "def data_add():\n",
        "  eng=input('추가할 영어 단어는? ')\n",
        "  mean=input('추가 영어 단어 뜻은? ')\n",
        "  worddict[eng]=mean\n",
        "  print(worddict)\n",
        "\n",
        "def eng_test():\n",
        "  import random\n",
        "  correct=0\n",
        "  tot=0\n",
        "  while True:\n",
        "    word=random.choice(list(worddict.keys()))\n",
        "    print(f'다음 단어의 뜻은 무엇일까요? {word}')\n",
        "    tot+=1\n",
        "    ans=input('뜻을 입력하세요.')\n",
        "    if ans==worddict[word]:\n",
        "      print('정답')\n",
        "      correct+=1\n",
        "    else:\n",
        "      print('오답')\n",
        "      print(worddict[word])\n",
        "    quit=input('계속하시겠습니까?(종료: N) ')\n",
        "    if quit=='N':\n",
        "      break\n",
        "  print(f'문제수 :{tot}, 정답수: {correct}')\n",
        "\n",
        "\n",
        "manu=int(input('메뉴선택(1.추가, 2. 퀴즈): '))\n",
        "if manu==1:\n",
        "  data_add()\n",
        "elif manu==2:\n",
        "  eng_test()\n",
        "else:\n",
        "  print('없는 메뉴입니다.')"
      ],
      "metadata": {
        "colab": {
          "base_uri": "https://localhost:8080/"
        },
        "id": "rcIENrKfDx-R",
        "outputId": "a538cdc7-7827-4a26-98bb-f79d6230c289"
      },
      "execution_count": null,
      "outputs": [
        {
          "output_type": "stream",
          "name": "stdout",
          "text": [
            "메뉴선택(1.추가, 2. 퀴즈): 1\n",
            "추가할 영어 단어는? tofu\n",
            "추가 영어 단어 뜻은? 두부\n",
            "{'apple': '사과', 'orange': '오렌지', 'car': '차', 'chocolate': '초콜릿', 'cloth': '옷', 'banana': '바나나', 'doll': '인형', 'dog': '강아지', 'cat': '고양이', 'standfast': '확고부동한', 'tofu': '두부'}\n"
          ]
        }
      ]
    },
    {
      "cell_type": "markdown",
      "source": [
        "##구구단 게임"
      ],
      "metadata": {
        "id": "sC9enk2OOjcd"
      }
    },
    {
      "cell_type": "code",
      "source": [
        "def gogodan(x):\n",
        "  import random\n",
        "  import time\n",
        "  correct=0\n",
        "  for i in range(x):\n",
        "    a=random.randint(2,9)\n",
        "    b=random.randint(1,9)\n",
        "    print(f'{a} x {b}? ')\n",
        "    stime=time.time()\n",
        "    userin=int(input('답>> '))\n",
        "    etime=time.time()\n",
        "    print(f'{etime-stime:.1f}초 만에 풀었어요.')\n",
        "    if userin == a*b:\n",
        "      print('corrct')\n",
        "      correct+=1\n",
        "    else:\n",
        "      print('incorrct. please retry it.')\n",
        "\n",
        "  return correct\n",
        "\n",
        "x=int(input('몇 번 반복할까요: '))\n",
        "r_correct=gogodan(x)\n",
        "print(f'{x}번 중에 {r_correct}번 맞혔어요.')"
      ],
      "metadata": {
        "colab": {
          "base_uri": "https://localhost:8080/"
        },
        "id": "VG0jGbVRFYnl",
        "outputId": "cf09d7e9-fa2a-4f1d-c386-a5a7a360de67"
      },
      "execution_count": null,
      "outputs": [
        {
          "output_type": "stream",
          "name": "stdout",
          "text": [
            "몇 번 반복할까요: 2\n",
            "5 x 6? \n",
            "답>> 30\n",
            "2.0초 만에 풀었어요.\n",
            "corrct\n",
            "2 x 7? \n",
            "답>> 14\n",
            "2.2초 만에 풀었어요.\n",
            "corrct\n",
            "2번 중에 2번 맞혔어요.\n"
          ]
        }
      ]
    },
    {
      "cell_type": "code",
      "source": [
        "import time\n",
        "\n",
        "print(time.time())"
      ],
      "metadata": {
        "colab": {
          "base_uri": "https://localhost:8080/"
        },
        "id": "hAHFA9u6SNn_",
        "outputId": "cac92097-e070-47f4-c4c3-eeb67a65226e"
      },
      "execution_count": null,
      "outputs": [
        {
          "output_type": "stream",
          "name": "stdout",
          "text": [
            "1736765417.696659\n"
          ]
        }
      ]
    }
  ]
}