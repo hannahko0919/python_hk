{
 "cells": [
  {
   "cell_type": "code",
   "execution_count": 1,
   "metadata": {},
   "outputs": [
    {
     "name": "stdout",
     "output_type": "stream",
     "text": [
      "고한나\n"
     ]
    }
   ],
   "source": [
    "print('고한나')"
   ]
  },
  {
   "cell_type": "code",
   "execution_count": 2,
   "metadata": {},
   "outputs": [
    {
     "name": "stdout",
     "output_type": "stream",
     "text": [
      "사각형 넚이: 50\n",
      "삼각형형 넚이: 25.0\n"
     ]
    }
   ],
   "source": [
    "def rectArea(width,height):\n",
    "    # a= width*height\n",
    "    return width*height\n",
    "\n",
    "def triArea(base,height):\n",
    "    return base * height /2\n",
    "\n",
    "print(f'사각형 넚이: {rectArea(5,10)}')\n",
    "print(f'삼각형형 넚이: {triArea(5,10)}')"
   ]
  }
 ],
 "metadata": {
  "kernelspec": {
   "display_name": "Python 3",
   "language": "python",
   "name": "python3"
  },
  "language_info": {
   "codemirror_mode": {
    "name": "ipython",
    "version": 3
   },
   "file_extension": ".py",
   "mimetype": "text/x-python",
   "name": "python",
   "nbconvert_exporter": "python",
   "pygments_lexer": "ipython3",
   "version": "3.13.1"
  }
 },
 "nbformat": 4,
 "nbformat_minor": 2
}
